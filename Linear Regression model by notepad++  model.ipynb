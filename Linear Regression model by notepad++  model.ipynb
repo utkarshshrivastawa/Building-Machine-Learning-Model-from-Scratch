{
 "cells": [
  {
   "cell_type": "code",
   "execution_count": 9,
   "id": "5e6c0ba4-173c-47ed-b7ce-86b1a485453f",
   "metadata": {},
   "outputs": [],
   "source": [
    "import numpy as np \n",
    "import pandas as pd \n",
    "from sklearn.model_selection import train_test_split\n",
    "import matplotlib.pyplot as plt\n",
    "import linear_reg\n",
    "\n"
   ]
  },
  {
   "cell_type": "code",
   "execution_count": 10,
   "id": "a322c47a-dd02-4f70-8242-6e53f4df1d3b",
   "metadata": {},
   "outputs": [],
   "source": [
    "#  Data preprocessing \n",
    "# load the data \n",
    "salary = pd.read_csv(r\"C:\\Users\\utkar\\100 days ML\\salary_data.csv\")"
   ]
  },
  {
   "cell_type": "code",
   "execution_count": 11,
   "id": "d27977f6-0099-4439-904b-51fb38194bb8",
   "metadata": {},
   "outputs": [
    {
     "data": {
      "text/html": [
       "<div>\n",
       "<style scoped>\n",
       "    .dataframe tbody tr th:only-of-type {\n",
       "        vertical-align: middle;\n",
       "    }\n",
       "\n",
       "    .dataframe tbody tr th {\n",
       "        vertical-align: top;\n",
       "    }\n",
       "\n",
       "    .dataframe thead th {\n",
       "        text-align: right;\n",
       "    }\n",
       "</style>\n",
       "<table border=\"1\" class=\"dataframe\">\n",
       "  <thead>\n",
       "    <tr style=\"text-align: right;\">\n",
       "      <th></th>\n",
       "      <th>YearsExperience</th>\n",
       "      <th>Salary</th>\n",
       "    </tr>\n",
       "  </thead>\n",
       "  <tbody>\n",
       "    <tr>\n",
       "      <th>0</th>\n",
       "      <td>1.1</td>\n",
       "      <td>39343</td>\n",
       "    </tr>\n",
       "    <tr>\n",
       "      <th>1</th>\n",
       "      <td>1.3</td>\n",
       "      <td>46205</td>\n",
       "    </tr>\n",
       "    <tr>\n",
       "      <th>2</th>\n",
       "      <td>1.5</td>\n",
       "      <td>37731</td>\n",
       "    </tr>\n",
       "    <tr>\n",
       "      <th>3</th>\n",
       "      <td>2.0</td>\n",
       "      <td>43525</td>\n",
       "    </tr>\n",
       "    <tr>\n",
       "      <th>4</th>\n",
       "      <td>2.2</td>\n",
       "      <td>39891</td>\n",
       "    </tr>\n",
       "  </tbody>\n",
       "</table>\n",
       "</div>"
      ],
      "text/plain": [
       "   YearsExperience  Salary\n",
       "0              1.1   39343\n",
       "1              1.3   46205\n",
       "2              1.5   37731\n",
       "3              2.0   43525\n",
       "4              2.2   39891"
      ]
     },
     "execution_count": 11,
     "metadata": {},
     "output_type": "execute_result"
    }
   ],
   "source": [
    "# first 5 columns of the dataframe\n",
    "salary.head()"
   ]
  },
  {
   "cell_type": "code",
   "execution_count": 12,
   "id": "346f4f13-d83d-4127-b746-d61e921868b0",
   "metadata": {},
   "outputs": [
    {
     "data": {
      "text/html": [
       "<div>\n",
       "<style scoped>\n",
       "    .dataframe tbody tr th:only-of-type {\n",
       "        vertical-align: middle;\n",
       "    }\n",
       "\n",
       "    .dataframe tbody tr th {\n",
       "        vertical-align: top;\n",
       "    }\n",
       "\n",
       "    .dataframe thead th {\n",
       "        text-align: right;\n",
       "    }\n",
       "</style>\n",
       "<table border=\"1\" class=\"dataframe\">\n",
       "  <thead>\n",
       "    <tr style=\"text-align: right;\">\n",
       "      <th></th>\n",
       "      <th>YearsExperience</th>\n",
       "      <th>Salary</th>\n",
       "    </tr>\n",
       "  </thead>\n",
       "  <tbody>\n",
       "    <tr>\n",
       "      <th>25</th>\n",
       "      <td>9.0</td>\n",
       "      <td>105582</td>\n",
       "    </tr>\n",
       "    <tr>\n",
       "      <th>26</th>\n",
       "      <td>9.5</td>\n",
       "      <td>116969</td>\n",
       "    </tr>\n",
       "    <tr>\n",
       "      <th>27</th>\n",
       "      <td>9.6</td>\n",
       "      <td>112635</td>\n",
       "    </tr>\n",
       "    <tr>\n",
       "      <th>28</th>\n",
       "      <td>10.3</td>\n",
       "      <td>122391</td>\n",
       "    </tr>\n",
       "    <tr>\n",
       "      <th>29</th>\n",
       "      <td>10.5</td>\n",
       "      <td>121872</td>\n",
       "    </tr>\n",
       "  </tbody>\n",
       "</table>\n",
       "</div>"
      ],
      "text/plain": [
       "    YearsExperience  Salary\n",
       "25              9.0  105582\n",
       "26              9.5  116969\n",
       "27              9.6  112635\n",
       "28             10.3  122391\n",
       "29             10.5  121872"
      ]
     },
     "execution_count": 12,
     "metadata": {},
     "output_type": "execute_result"
    }
   ],
   "source": [
    "# last 5 columns of the dataframe \n",
    "salary.tail()"
   ]
  },
  {
   "cell_type": "code",
   "execution_count": 13,
   "id": "cadd526b-d6c9-40dc-82f8-c24af5092a22",
   "metadata": {},
   "outputs": [
    {
     "data": {
      "text/plain": [
       "(30, 2)"
      ]
     },
     "execution_count": 13,
     "metadata": {},
     "output_type": "execute_result"
    }
   ],
   "source": [
    "# n. of rows and cloumns are their in the data\n",
    "salary.shape"
   ]
  },
  {
   "cell_type": "code",
   "execution_count": 14,
   "id": "404d6e2f-374a-43e5-9ecd-b0db4d67f3c3",
   "metadata": {},
   "outputs": [
    {
     "data": {
      "text/plain": [
       "YearsExperience    0\n",
       "Salary             0\n",
       "dtype: int64"
      ]
     },
     "execution_count": 14,
     "metadata": {},
     "output_type": "execute_result"
    }
   ],
   "source": [
    "# checking for the missing values \n",
    "salary.isnull().sum()"
   ]
  },
  {
   "cell_type": "code",
   "execution_count": 15,
   "id": "44a83ac8-e937-4a31-8567-a80c4fe84ec7",
   "metadata": {},
   "outputs": [],
   "source": [
    "# spliting the feature and target columns\n",
    "x = salary.iloc[:,:-1].values  # in this we are removing the salary column\n",
    "y = salary.iloc[:,1].values   "
   ]
  },
  {
   "cell_type": "code",
   "execution_count": 16,
   "id": "70ddbe18-0b5b-4a68-a9d9-fe425505fb9e",
   "metadata": {},
   "outputs": [
    {
     "name": "stdout",
     "output_type": "stream",
     "text": [
      "[[ 1.1]\n",
      " [ 1.3]\n",
      " [ 1.5]\n",
      " [ 2. ]\n",
      " [ 2.2]\n",
      " [ 2.9]\n",
      " [ 3. ]\n",
      " [ 3.2]\n",
      " [ 3.2]\n",
      " [ 3.7]\n",
      " [ 3.9]\n",
      " [ 4. ]\n",
      " [ 4. ]\n",
      " [ 4.1]\n",
      " [ 4.5]\n",
      " [ 4.9]\n",
      " [ 5.1]\n",
      " [ 5.3]\n",
      " [ 5.9]\n",
      " [ 6. ]\n",
      " [ 6.8]\n",
      " [ 7.1]\n",
      " [ 7.9]\n",
      " [ 8.2]\n",
      " [ 8.7]\n",
      " [ 9. ]\n",
      " [ 9.5]\n",
      " [ 9.6]\n",
      " [10.3]\n",
      " [10.5]]\n"
     ]
    }
   ],
   "source": [
    "print(x)"
   ]
  },
  {
   "cell_type": "code",
   "execution_count": 17,
   "id": "faeb9b87-b6c5-437d-a8ae-936d1c61e522",
   "metadata": {},
   "outputs": [
    {
     "name": "stdout",
     "output_type": "stream",
     "text": [
      "[ 39343  46205  37731  43525  39891  56642  60150  54445  64445  57189\n",
      "  63218  55794  56957  57081  61111  67938  66029  83088  81363  93940\n",
      "  91738  98273 101302 113812 109431 105582 116969 112635 122391 121872]\n"
     ]
    }
   ],
   "source": [
    "print(y)"
   ]
  },
  {
   "cell_type": "code",
   "execution_count": 18,
   "id": "19a5fd60-3f66-4557-ac20-00902a785457",
   "metadata": {},
   "outputs": [],
   "source": [
    "# spliting the dataset in training and test data \n",
    "X_train, X_test , Y_train,Y_test = train_test_split(x,y,test_size= 0.33, random_state = 2)"
   ]
  },
  {
   "cell_type": "code",
   "execution_count": 20,
   "id": "0a98efce-e9fc-4159-a1fe-b1da792c8899",
   "metadata": {},
   "outputs": [],
   "source": [
    "# training the linear regression model\n",
    "model = linear_reg.Linear_Regression(learning_rate = 0.02 , no_of_iterations = 1000)"
   ]
  },
  {
   "cell_type": "code",
   "execution_count": 21,
   "id": "13b66d10-806f-449d-a007-784dbb43571a",
   "metadata": {},
   "outputs": [],
   "source": [
    "model.fit(X_train , Y_train)"
   ]
  },
  {
   "cell_type": "code",
   "execution_count": 22,
   "id": "e4cd16e6-3d91-4541-b608-ed8279b61232",
   "metadata": {},
   "outputs": [
    {
     "name": "stdout",
     "output_type": "stream",
     "text": [
      "weight =  9514.400999035135\n",
      "bias =  23697.406507136307\n"
     ]
    }
   ],
   "source": [
    "# printing the parameter values weights and bias \n",
    "print('weight = ', model.w[0])\n",
    "print('bias = ' , model.b)\n",
    "\n",
    "# our model is y = 9514(x)+23697 where y is salary\n"
   ]
  },
  {
   "cell_type": "code",
   "execution_count": 23,
   "id": "3d71281d-3781-429e-8df1-6bee3bc5ae2b",
   "metadata": {},
   "outputs": [],
   "source": [
    "# predict the salary value for predict data \n",
    "test_data_prediction = model.predict(X_test)\n"
   ]
  },
  {
   "cell_type": "code",
   "execution_count": 24,
   "id": "54521cbc-34c9-43ec-8b2a-3b86d130d57a",
   "metadata": {},
   "outputs": [
    {
     "name": "stdout",
     "output_type": "stream",
     "text": [
      "[ 36066.12780588  34163.24760607  66512.21100279  58900.69020357\n",
      "  91249.65360029  80783.81250135 101715.49469922  52240.60950424\n",
      "  42726.20850521  88395.33330058]\n"
     ]
    }
   ],
   "source": [
    "print(test_data_prediction)"
   ]
  },
  {
   "cell_type": "code",
   "execution_count": 25,
   "id": "5f3157d1-b08f-4c98-8834-00380a1ac14e",
   "metadata": {},
   "outputs": [
    {
     "data": {
      "image/png": "[encoded data removed]",
      "text/plain": [
       "<Figure size 640x480 with 1 Axes>"
      ]
     },
     "metadata": {},
     "output_type": "display_data"
    }
   ],
   "source": [
    "# visulize the predicted & actual value\n",
    "plt.scatter(X_test,Y_test , color = 'red')\n",
    "plt.plot(X_test, test_data_prediction, color = 'blue')\n",
    "plt.xlabel('Work Experience')\n",
    "plt.ylabel('Salary')\n",
    "plt.title('Salary VS Work Experience')\n",
    "plt.show()"
   ]
  }
 ],
 "metadata": {
  "kernelspec": {
   "display_name": "Python 3 (ipykernel)",
   "language": "python",
   "name": "python3"
  },
  "language_info": {
   "codemirror_mode": {
    "name": "ipython",
    "version": 3
   },
   "file_extension": ".py",
   "mimetype": "text/x-python",
   "name": "python",
   "nbconvert_exporter": "python",
   "pygments_lexer": "ipython3",
   "version": "3.12.2"
  }
 },
 "nbformat": 4,
 "nbformat_minor": 5
}
